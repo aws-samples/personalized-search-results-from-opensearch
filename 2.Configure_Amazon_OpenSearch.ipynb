{
 "cells": [
  {
   "cell_type": "markdown",
   "id": "10e12976-2861-43fd-bad0-2708f07bd297",
   "metadata": {},
   "source": [
    "## Configure Amazon OpenSearch"
   ]
  },
  {
   "cell_type": "markdown",
   "id": "1b8837af-e93b-4303-97b7-bf7fa7efbee9",
   "metadata": {},
   "source": [
    "### Install required packages"
   ]
  },
  {
   "cell_type": "code",
   "execution_count": null,
   "id": "2c1bb42a-8b68-4744-8b32-b57b97eda2a7",
   "metadata": {
    "tags": []
   },
   "outputs": [],
   "source": [
    "!pip install requests_auth_aws_sigv4\n",
    "!pip install requests\n",
    "!pip install opensearch-py"
   ]
  },
  {
   "cell_type": "markdown",
   "id": "8a50d8ce-8711-4832-a699-2d85838a22fc",
   "metadata": {},
   "source": [
    "### Reload modules"
   ]
  },
  {
   "cell_type": "code",
   "execution_count": null,
   "id": "e149cf39-48d1-4f0c-90c1-9a3d83563b21",
   "metadata": {
    "tags": []
   },
   "outputs": [],
   "source": [
    "%reload_ext autoreload\n",
    "%autoreload 2"
   ]
  },
  {
   "cell_type": "markdown",
   "id": "f7cb56ce-ce69-4c41-9b2a-97c89335e276",
   "metadata": {},
   "source": [
    "### Imports"
   ]
  },
  {
   "cell_type": "code",
   "execution_count": null,
   "id": "4b8ce2be-c876-4773-bffc-e73e18779238",
   "metadata": {
    "tags": []
   },
   "outputs": [],
   "source": [
    "from opensearchpy import OpenSearch, RequestsHttpConnection\n",
    "from requests_auth_aws_sigv4 import AWSSigV4\n",
    "import utils"
   ]
  },
  {
   "cell_type": "markdown",
   "id": "27a249da-6a94-4377-a2ca-b2ac0a3e3ca0",
   "metadata": {},
   "source": [
    "#### Import the saved variables from the previous notebook."
   ]
  },
  {
   "cell_type": "code",
   "execution_count": null,
   "id": "254f9ca5-ed46-441f-b417-678a6086cb4c",
   "metadata": {
    "tags": []
   },
   "outputs": [],
   "source": [
    "%store -r"
   ]
  },
  {
   "cell_type": "markdown",
   "id": "e3861b3c-b8d8-43af-ae54-e2b21f7d69bc",
   "metadata": {},
   "source": [
    "### Define the Amazon OpenSearch endpoints\n",
    "These values can be found out from the `Output` section of the cloudformation stack"
   ]
  },
  {
   "cell_type": "code",
   "execution_count": null,
   "id": "b8c74cd8-d6af-4965-b2d7-810700964619",
   "metadata": {
    "tags": []
   },
   "outputs": [],
   "source": [
    "HOST = \"REPLACE_ME_WITH_HOST\"\n",
    "PORT = \"443\"\n",
    "endpoint = f\"https://{HOST}/\""
   ]
  },
  {
   "cell_type": "markdown",
   "id": "da3b7da9-c9f6-41d3-882f-1e757e356f89",
   "metadata": {},
   "source": [
    "### Initialize variables"
   ]
  },
  {
   "cell_type": "code",
   "execution_count": null,
   "id": "0cb3702f-2b63-4276-b4b3-0f87570e11f5",
   "metadata": {
    "tags": []
   },
   "outputs": [],
   "source": [
    "bucket_prefix = 'personalized-opensearch-ranking'\n",
    "domain_name = 'os-domain'"
   ]
  },
  {
   "cell_type": "markdown",
   "id": "c7091ff1-190e-4b3d-9ec3-4232c6c20af8",
   "metadata": {},
   "source": [
    "### Create an IAM service role for OpenSearch Service, and grant it permission to get a personalized ranking from your Amazon Personalize campaign."
   ]
  },
  {
   "cell_type": "code",
   "execution_count": null,
   "id": "372521a5-5962-4c17-ab76-ba9eff69cfaa",
   "metadata": {
    "tags": []
   },
   "outputs": [],
   "source": [
    "role_suffix = \"opensearch-role-for-personalize\""
   ]
  },
  {
   "cell_type": "code",
   "execution_count": null,
   "id": "24203288-8100-4eda-ab92-065d681a5a9b",
   "metadata": {
    "tags": []
   },
   "outputs": [],
   "source": [
    "role_arn_for_personalize = utils.create_iam_role_for_personalize(role_suffix, campaign_arn)"
   ]
  },
  {
   "cell_type": "markdown",
   "id": "24624cad-230e-48b3-9595-271be7534aba",
   "metadata": {},
   "source": [
    "### Checking the Amazon Opensearch connection\n",
    "\n",
    "To connect to the Amazon OpenSearch domain created earlier via CloudFormation, we will use the opensearch-py client for Python. OpenSearch Service requires Signature Version 4 for request signing. This means signing requests against the \"es\" service name and the AWS Region where the domain is located. The requests_auth_aws_sigv4 package will be used to sign the requests, leveraging the credentials from the SageMaker notebook's execution role when creating the auth object. This allows establishing a secure connection to the OpenSearch domain from the notebook."
   ]
  },
  {
   "cell_type": "code",
   "execution_count": null,
   "id": "938def23-33ac-4da1-8090-1b883ff293f1",
   "metadata": {
    "tags": []
   },
   "outputs": [],
   "source": [
    "auth = AWSSigV4('es')\n",
    "\n",
    "client = OpenSearch(\n",
    "    hosts=[{'host': HOST, 'port': PORT}],\n",
    "    http_auth=auth,\n",
    "    use_ssl=True,\n",
    "    connection_class=RequestsHttpConnection\n",
    ")\n",
    "\n",
    "info = client.info()\n",
    "opensearch_version = info[\"version\"][\"number\"]\n",
    "print(f\"Connection succeeded with version: {opensearch_version}\")"
   ]
  },
  {
   "cell_type": "markdown",
   "id": "8c020a2d-5e28-41b5-8a8b-fd3dbc774855",
   "metadata": {},
   "source": [
    "You should see cluster information if the setup was successful."
   ]
  },
  {
   "cell_type": "markdown",
   "id": "d25b61d4-3ec5-49a6-96b6-642440360cdd",
   "metadata": {},
   "source": [
    "### Upload the index data to the movies index\n",
    "We will now upload index data to the movies index in our OpenSearch domain. A data file called data.jsonl has been provided in the repository, and we will use this file to load the index data. The data.jsonl file has index information on movies such as the title, genres, year etc. "
   ]
  },
  {
   "cell_type": "markdown",
   "id": "784e74b2-a8b8-4657-ae63-e3f3c4ed9e65",
   "metadata": {},
   "source": [
    "Let's first take a look at the first few records from the index file"
   ]
  },
  {
   "cell_type": "code",
   "execution_count": null,
   "id": "ea17da5b-cab3-47b1-8faa-2575a6c4ac5e",
   "metadata": {
    "tags": []
   },
   "outputs": [],
   "source": [
    "!head -10 data.jsonl"
   ]
  },
  {
   "cell_type": "code",
   "execution_count": null,
   "id": "277e5f6e-ec91-4edf-a949-b0e698a51e2d",
   "metadata": {
    "tags": []
   },
   "outputs": [],
   "source": [
    "utils.bulk_upload(\"data.jsonl\", endpoint, auth)"
   ]
  },
  {
   "cell_type": "markdown",
   "id": "376e1d38-9785-4a45-9a9e-1d0aaf4e3493",
   "metadata": {},
   "source": [
    "### Associating the Plugin to the Amazon OpenSearch Domain\n",
    "Here we associate the amazon-personalized-ranking plugin with your domain. The plugin is preinstalled, and you don't have to import it from Amazon S3. You associate the plugin the same way that you associate an OpenSearch Service package. **If you have already associated the package via console you can skip this step.**\n",
    "\n",
    "This step might take ~ 20 - 30 minutes to complete."
   ]
  },
  {
   "cell_type": "code",
   "execution_count": null,
   "id": "9ba0a1e1",
   "metadata": {
    "collapsed": false,
    "jupyter": {
     "outputs_hidden": false
    }
   },
   "outputs": [],
   "source": [
    "package_id = utils.get_opensearch_package_id('amazon-personalized-ranking', opensearch_version)"
   ]
  },
  {
   "cell_type": "code",
   "execution_count": null,
   "id": "b6b604df-d1d4-4199-ab0e-8c955740247e",
   "metadata": {
    "tags": []
   },
   "outputs": [],
   "source": [
    "print(f\"Associating package with {package_id} for domain {domain_name}\")\n",
    "utils.associate_package(package_id, domain_name)"
   ]
  },
  {
   "cell_type": "markdown",
   "id": "84bd9dcb-0b20-47d5-ae7e-fb78b72ba45a",
   "metadata": {},
   "source": [
    "### Configuring the plugin\n",
    "\n",
    "After you install the Amazon Personalize Search Ranking plugin, you're ready to configure it by creating an OpenSearch search pipeline.\n",
    "\n",
    "A search pipeline is a set of request and response processors that run sequentially in the order that you create them. When you create a search pipeline for the plugin, you specify a personalized_search_ranking response processor"
   ]
  },
  {
   "cell_type": "markdown",
   "id": "e59062cd-b647-46f6-8800-c8e0b36823ec",
   "metadata": {},
   "source": [
    "You can use the following  method to create a search pipeline with a personalized_search_ranking response processor on an OpenSearch Service domain."
   ]
  },
  {
   "cell_type": "code",
   "execution_count": null,
   "id": "9e250177-bb1c-4f8a-bfe2-04cc45c455cd",
   "metadata": {
    "tags": []
   },
   "outputs": [],
   "source": [
    "utils.update_pipeline(\"intelligent_ranking\", \"0.7\", campaign_arn, role_arn_for_personalize, region, HOST, PORT)"
   ]
  },
  {
   "cell_type": "markdown",
   "id": "f4d89c50-0e9a-4619-aa0c-037f18c57358",
   "metadata": {},
   "source": [
    "where:\n",
    "\n",
    "* **intelligent_ranking** = A name that you want to give the pipeline\n",
    "* **1.0** = Weight. The emphasis that the response processor puts on personalization when it re-ranks results. Specify a value within a range of 0.0–1.0. The closer to 1.0 that it is, the more likely it is that results from Amazon Personalize rank higher. If you specify 0.0, no personalization occurs and OpenSearch takes precedence.\n",
    "* **campaign_arn** = The Amazon Resource Name (ARN) of the Amazon Personalize campaign to use, to personalize results\n",
    "* **iam_role_arn** = For OpenSearch Service,  the role that you created when setting up permissions for OpenSearch Service to access your Amazon Personalize resources.\n",
    "* **region** = The AWS Region where you created your Amazon Personalize campaign\n",
    "* **HOST** = The OpenSearch domain endpoint hostname \n",
    "* **PORT** = The OpenSearch domain endpoint port "
   ]
  },
  {
   "cell_type": "markdown",
   "id": "e90c800f-b49f-43f7-b779-55f607311314",
   "metadata": {},
   "source": [
    "After you create a search pipeline with a personalized_search_ranking response processor, you're ready to start applying the plugin to OpenSearch queries. You can apply it to an OpenSearch index or an individual OpenSearch query. For more information, see [Applying the plugin to OpenSearch queries](https://docs.aws.amazon.com/personalize/latest/dg/opensearch-personalizing-results.html)."
   ]
  },
  {
   "cell_type": "markdown",
   "id": "f1f43586-b24e-4fb1-b184-ea80229efd7b",
   "metadata": {},
   "source": [
    "We will save these variables to use later in the [3.Testing.ipynb](./3.Testing.ipynb) notebook."
   ]
  },
  {
   "cell_type": "code",
   "execution_count": null,
   "id": "6020edd6-f3f8-43b4-86fb-bd1c6eafcaaa",
   "metadata": {
    "tags": []
   },
   "outputs": [],
   "source": [
    "%store HOST\n",
    "%store PORT\n",
    "%store endpoint\n",
    "%store region\n",
    "%store campaign_arn\n",
    "%store role_arn_for_personalize"
   ]
  },
  {
   "cell_type": "code",
   "execution_count": null,
   "id": "aafe2797-0ba7-4be7-9c4c-302e910f428a",
   "metadata": {},
   "outputs": [],
   "source": []
  }
 ],
 "metadata": {
  "kernelspec": {
   "display_name": "conda_pytorch_p310",
   "language": "python",
   "name": "conda_pytorch_p310"
  },
  "language_info": {
   "codemirror_mode": {
    "name": "ipython",
    "version": 3
   },
   "file_extension": ".py",
   "mimetype": "text/x-python",
   "name": "python",
   "nbconvert_exporter": "python",
   "pygments_lexer": "ipython3",
   "version": "3.10.13"
  }
 },
 "nbformat": 4,
 "nbformat_minor": 5
}
